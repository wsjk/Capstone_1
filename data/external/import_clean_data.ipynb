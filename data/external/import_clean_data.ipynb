{
 "cells": [
  {
   "cell_type": "code",
   "execution_count": 26,
   "metadata": {},
   "outputs": [],
   "source": [
    "import pandas as pd\n",
    "import numpy as np\n",
    "import glob\n",
    "import os\n",
    "import csv\n",
    "import re\n",
    "import ast\n",
    "from pandas.io.json import json_normalize\n",
    "from pandas.io import json\n",
    "current_file_path = os.path.abspath(os.path.join(\"__file__\" ,\"../..\"))\n",
    "raw_data_path = os.path.join(current_file_path,'raw')\n",
    "ext_data_path = os.path.join(current_file_path,'external')\n",
    "data_files = glob.glob(os.path.join(ext_data_path, '*.csv'), recursive=False)\n",
    "\n",
    "import re\n",
    "pattern = r'.+/(.+)_cleaned.csv$'  #extract filenames of cleaned files for dict keys\n",
    "\n",
    "#dict to contain all dataframes\n",
    "data = {}\n",
    "for file in data_files:\n",
    "    matchobj = re.search(pattern, file)\n",
    "    data[matchobj.group(1)] = pd.read_csv(file, index_col = ['movie_id', 'title'])"
   ]
  },
  {
   "cell_type": "code",
   "execution_count": 28,
   "metadata": {},
   "outputs": [
    {
     "data": {
      "text/plain": [
       "dict_keys(['tmdb_movie_genres', 'tmdb_crew_credit', 'tmdb_movie_keywords', 'tmdb_movie_production_companies', 'tmdb_movie_main', 'tmdb_movie_production_countries', 'tmdb_cast_credit', 'tmdb_movie_spoken_languages'])"
      ]
     },
     "execution_count": 28,
     "metadata": {},
     "output_type": "execute_result"
    }
   ],
   "source": [
    "data.keys()\n"
   ]
  },
  {
   "cell_type": "code",
   "execution_count": 37,
   "metadata": {},
   "outputs": [
    {
     "name": "stdout",
     "output_type": "stream",
     "text": [
      "tmdb_movie_genres\n",
      "<class 'pandas.core.frame.DataFrame'>\n",
      "MultiIndex: 12160 entries, (19995, Avatar) to (25975, My Date with Drew)\n",
      "Data columns (total 2 columns):\n",
      "id      12160 non-null int64\n",
      "name    12160 non-null object\n",
      "dtypes: int64(1), object(1)\n",
      "memory usage: 312.2+ KB\n",
      "None \n",
      "\n",
      "tmdb_crew_credit\n",
      "<class 'pandas.core.frame.DataFrame'>\n",
      "MultiIndex: 129581 entries, (19995, Avatar) to (25975, My Date with Drew)\n",
      "Data columns (total 6 columns):\n",
      "credit_id     129581 non-null object\n",
      "department    129581 non-null object\n",
      "gender        129581 non-null int64\n",
      "id            129581 non-null int64\n",
      "job           129581 non-null object\n",
      "name          129581 non-null object\n",
      "dtypes: int64(2), object(4)\n",
      "memory usage: 6.5+ MB\n",
      "None \n",
      "\n",
      "tmdb_movie_keywords\n",
      "<class 'pandas.core.frame.DataFrame'>\n",
      "MultiIndex: 36194 entries, (19995, Avatar) to (25975, My Date with Drew)\n",
      "Data columns (total 2 columns):\n",
      "id      36194 non-null int64\n",
      "name    36194 non-null object\n",
      "dtypes: int64(1), object(1)\n",
      "memory usage: 775.6+ KB\n",
      "None \n",
      "\n",
      "tmdb_movie_production_companies\n",
      "<class 'pandas.core.frame.DataFrame'>\n",
      "MultiIndex: 13677 entries, (19995, Avatar) to (25975, My Date with Drew)\n",
      "Data columns (total 2 columns):\n",
      "id      13677 non-null int64\n",
      "name    13677 non-null object\n",
      "dtypes: int64(1), object(1)\n",
      "memory usage: 336.8+ KB\n",
      "None \n",
      "\n",
      "tmdb_movie_main\n",
      "<class 'pandas.core.frame.DataFrame'>\n",
      "MultiIndex: 4803 entries, (19995, Avatar) to (25975, My Date with Drew)\n",
      "Data columns (total 12 columns):\n",
      "budget               4803 non-null int64\n",
      "homepage             1712 non-null object\n",
      "original_language    4803 non-null object\n",
      "overview             4800 non-null object\n",
      "popularity           4803 non-null float64\n",
      "release_date         4802 non-null object\n",
      "revenue              4803 non-null int64\n",
      "runtime              4801 non-null float64\n",
      "status               4803 non-null object\n",
      "tagline              3959 non-null object\n",
      "vote_average         4803 non-null float64\n",
      "vote_count           4803 non-null int64\n",
      "dtypes: float64(3), int64(3), object(6)\n",
      "memory usage: 544.2+ KB\n",
      "None \n",
      "\n",
      "tmdb_movie_production_countries\n",
      "<class 'pandas.core.frame.DataFrame'>\n",
      "MultiIndex: 6436 entries, (19995, Avatar) to (25975, My Date with Drew)\n",
      "Data columns (total 2 columns):\n",
      "iso_3166_1    6436 non-null object\n",
      "name          6436 non-null object\n",
      "dtypes: object(2)\n",
      "memory usage: 198.1+ KB\n",
      "None \n",
      "\n",
      "tmdb_cast_credit\n",
      "<class 'pandas.core.frame.DataFrame'>\n",
      "MultiIndex: 106257 entries, (19995, Avatar) to (25975, My Date with Drew)\n",
      "Data columns (total 7 columns):\n",
      "cast_id      106257 non-null int64\n",
      "character    105574 non-null object\n",
      "credit_id    106257 non-null object\n",
      "gender       106257 non-null int64\n",
      "id           106257 non-null int64\n",
      "name         106257 non-null object\n",
      "order        106257 non-null int64\n",
      "dtypes: int64(4), object(3)\n",
      "memory usage: 6.2+ MB\n",
      "None \n",
      "\n",
      "tmdb_movie_spoken_languages\n",
      "<class 'pandas.core.frame.DataFrame'>\n",
      "MultiIndex: 6937 entries, (19995, Avatar) to (25975, My Date with Drew)\n",
      "Data columns (total 2 columns):\n",
      "iso_639_1    6937 non-null object\n",
      "name         6883 non-null object\n",
      "dtypes: object(2)\n",
      "memory usage: 209.3+ KB\n",
      "None \n",
      "\n"
     ]
    }
   ],
   "source": [
    "for key in data.keys():\n",
    "    print(key)\n",
    "    print(data[key].info(), '\\n')"
   ]
  },
  {
   "cell_type": "code",
   "execution_count": 43,
   "metadata": {},
   "outputs": [
    {
     "data": {
      "text/plain": [
       "movie_id  title                                      \n",
       "1865      Pirates of the Caribbean: On Stranger Tides    380000000\n",
       "285       Pirates of the Caribbean: At World's End       300000000\n",
       "99861     Avengers: Age of Ultron                        280000000\n",
       "1452      Superman Returns                               270000000\n",
       "49529     John Carter                                    260000000\n",
       "38757     Tangled                                        260000000\n",
       "559       Spider-Man 3                                   258000000\n",
       "57201     The Lone Ranger                                255000000\n",
       "49026     The Dark Knight Rises                          250000000\n",
       "767       Harry Potter and the Half-Blood Prince         250000000\n",
       "Name: budget, dtype: int64"
      ]
     },
     "execution_count": 43,
     "metadata": {},
     "output_type": "execute_result"
    }
   ],
   "source": [
    "print(data['tmdb_movie_main'].budget.nlargest(10))\n",
    "print('\\n')\n",
    "print(data['tmdb_movie_main'].revenue.nlargest(10))"
   ]
  },
  {
   "cell_type": "code",
   "execution_count": 50,
   "metadata": {},
   "outputs": [
    {
     "name": "stdout",
     "output_type": "stream",
     "text": [
      "movie_id  title                                        \n",
      "19995     Avatar                                           2550965087\n",
      "597       Titanic                                          1645034188\n",
      "135397    Jurassic World                                   1363528810\n",
      "168259    Furious 7                                        1316249360\n",
      "24428     The Avengers                                     1299557910\n",
      "99861     Avengers: Age of Ultron                          1125403694\n",
      "109445    Frozen                                           1124219009\n",
      "211672    Minions                                          1082730962\n",
      "122       The Lord of the Rings: The Return of the King    1024888979\n",
      "68721     Iron Man 3                                       1015439994\n",
      "dtype: int64\n",
      "\n",
      "\n",
      "movie_id  title                       \n",
      "57201     The Lone Ranger                -165710090\n",
      "7978      The Wolfman                    -150000000\n",
      "10733     The Alamo                      -119180039\n",
      "50321     Mars Needs Moms                -111007242\n",
      "14164     Dragonball Evolution           -100000000\n",
      "1911      The 13th Warrior                -98301101\n",
      "11692     The Adventures of Pluto Nash    -92896027\n",
      "19        Metropolis                      -91969578\n",
      "10357     Volcano                         -90000000\n",
      "9822      Mighty Joe Young                -90000000\n",
      "dtype: int64\n"
     ]
    }
   ],
   "source": [
    "data['tmdb_movie_main']['net'] = data['tmdb_movie_main'].revenue - data['tmdb_movie_main'].budget\n",
    "print(data['tmdb_movie_main'].net.nlargest(10))\n",
    "print('\\n')\n",
    "print(data['tmdb_movie_main'].net.nsmallest(10))"
   ]
  },
  {
   "cell_type": "code",
   "execution_count": null,
   "metadata": {},
   "outputs": [],
   "source": []
  }
 ],
 "metadata": {
  "kernelspec": {
   "display_name": "Python 3",
   "language": "python",
   "name": "python3"
  },
  "language_info": {
   "codemirror_mode": {
    "name": "ipython",
    "version": 3
   },
   "file_extension": ".py",
   "mimetype": "text/x-python",
   "name": "python",
   "nbconvert_exporter": "python",
   "pygments_lexer": "ipython3",
   "version": "3.5.2"
  }
 },
 "nbformat": 4,
 "nbformat_minor": 2
}
