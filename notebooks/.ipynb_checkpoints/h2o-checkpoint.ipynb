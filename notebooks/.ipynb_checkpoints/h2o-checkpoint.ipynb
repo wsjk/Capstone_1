{
 "cells": [
  {
   "cell_type": "code",
   "execution_count": 1,
   "metadata": {},
   "outputs": [],
   "source": [
    "%load_ext autoreload\n",
    "%autoreload 2"
   ]
  },
  {
   "cell_type": "code",
   "execution_count": 5,
   "metadata": {},
   "outputs": [],
   "source": [
    "import pandas as pd\n",
    "import os\n",
    "import glob"
   ]
  },
  {
   "cell_type": "markdown",
   "metadata": {},
   "source": [
    "# Import Dataset"
   ]
  },
  {
   "cell_type": "code",
   "execution_count": 3,
   "metadata": {},
   "outputs": [
    {
     "data": {
      "text/plain": [
       "'C:\\\\Users\\\\ill will\\\\Desktop\\\\Code\\\\springboard\\\\Capstone_1\\\\notebooks'"
      ]
     },
     "execution_count": 3,
     "metadata": {},
     "output_type": "execute_result"
    }
   ],
   "source": [
    "os.getcwd()"
   ]
  },
  {
   "cell_type": "code",
   "execution_count": 4,
   "metadata": {},
   "outputs": [
    {
     "data": {
      "text/plain": [
       "'C:\\\\Users\\\\ill will\\\\Desktop\\\\Code\\\\springboard\\\\Capstone_1'"
      ]
     },
     "execution_count": 4,
     "metadata": {},
     "output_type": "execute_result"
    }
   ],
   "source": [
    "import importlib.util\n",
    "import sys\n",
    "\n",
    "current_file_path = os.path.abspath(os.path.join(\"__file__\" ,\"../..\"))\n",
    "current_file_path"
   ]
  },
  {
   "cell_type": "code",
   "execution_count": 54,
   "metadata": {},
   "outputs": [],
   "source": [
    "import_data_path = os.path.join(current_file_path,'src','data')\n",
    "sys.path.append(os.path.abspath(os.path.join(import_data_path)))\n",
    "import prep_data_for_models as pdfm\n",
    "\n",
    "import_eda_path = os.path.join(current_file_path,'src','tools')\n",
    "sys.path.append(os.path.abspath(os.path.join(import_eda_path)))\n",
    "import eda_tools as eda"
   ]
  },
  {
   "cell_type": "code",
   "execution_count": 7,
   "metadata": {},
   "outputs": [],
   "source": [
    "data = pdfm.get_data()"
   ]
  },
  {
   "cell_type": "code",
   "execution_count": 8,
   "metadata": {},
   "outputs": [],
   "source": [
    "movies = pdfm.get_movies(data)"
   ]
  },
  {
   "cell_type": "code",
   "execution_count": 9,
   "metadata": {},
   "outputs": [
    {
     "data": {
      "text/plain": [
       "dict_keys(['tmdb_cast_credit', 'tmdb_crew_credit', 'tmdb_movie_genres', 'tmdb_movie_keywords', 'tmdb_movie_main', 'tmdb_movie_production_companies', 'tmdb_movie_production_countries', 'tmdb_movie_spoken_languages'])"
      ]
     },
     "execution_count": 9,
     "metadata": {},
     "output_type": "execute_result"
    }
   ],
   "source": [
    "data.keys()"
   ]
  },
  {
   "cell_type": "code",
   "execution_count": 15,
   "metadata": {},
   "outputs": [
    {
     "name": "stdout",
     "output_type": "stream",
     "text": [
      "getting cast credits to date\n"
     ]
    },
    {
     "data": {
      "application/vnd.jupyter.widget-view+json": {
       "model_id": "fe832895baff46f6b1815cead25a33a9",
       "version_major": 2,
       "version_minor": 0
      },
      "text/html": [
       "<p>Failed to display Jupyter Widget of type <code>HBox</code>.</p>\n",
       "<p>\n",
       "  If you're reading this message in the Jupyter Notebook or JupyterLab Notebook, it may mean\n",
       "  that the widgets JavaScript is still loading. If this message persists, it\n",
       "  likely means that the widgets JavaScript library is either not installed or\n",
       "  not enabled. See the <a href=\"https://ipywidgets.readthedocs.io/en/stable/user_install.html\">Jupyter\n",
       "  Widgets Documentation</a> for setup instructions.\n",
       "</p>\n",
       "<p>\n",
       "  If you're reading this message in another frontend (for example, a static\n",
       "  rendering on GitHub or <a href=\"https://nbviewer.jupyter.org/\">NBViewer</a>),\n",
       "  it may mean that your frontend doesn't currently support widgets.\n",
       "</p>\n"
      ],
      "text/plain": [
       "HBox(children=(IntProgress(value=0, max=1811), HTML(value='')))"
      ]
     },
     "metadata": {},
     "output_type": "display_data"
    },
    {
     "name": "stdout",
     "output_type": "stream",
     "text": [
      "\n",
      "getting cast net to date\n"
     ]
    },
    {
     "data": {
      "application/vnd.jupyter.widget-view+json": {
       "model_id": "b3969215a08d4ffd9d3b0dc3108da292",
       "version_major": 2,
       "version_minor": 0
      },
      "text/html": [
       "<p>Failed to display Jupyter Widget of type <code>HBox</code>.</p>\n",
       "<p>\n",
       "  If you're reading this message in the Jupyter Notebook or JupyterLab Notebook, it may mean\n",
       "  that the widgets JavaScript is still loading. If this message persists, it\n",
       "  likely means that the widgets JavaScript library is either not installed or\n",
       "  not enabled. See the <a href=\"https://ipywidgets.readthedocs.io/en/stable/user_install.html\">Jupyter\n",
       "  Widgets Documentation</a> for setup instructions.\n",
       "</p>\n",
       "<p>\n",
       "  If you're reading this message in another frontend (for example, a static\n",
       "  rendering on GitHub or <a href=\"https://nbviewer.jupyter.org/\">NBViewer</a>),\n",
       "  it may mean that your frontend doesn't currently support widgets.\n",
       "</p>\n"
      ],
      "text/plain": [
       "HBox(children=(IntProgress(value=0, max=1811), HTML(value='')))"
      ]
     },
     "metadata": {},
     "output_type": "display_data"
    },
    {
     "name": "stdout",
     "output_type": "stream",
     "text": [
      "\n"
     ]
    }
   ],
   "source": [
    "actors_df = pdfm.get_actor_credits(data, movies, False, False)"
   ]
  },
  {
   "cell_type": "code",
   "execution_count": 31,
   "metadata": {},
   "outputs": [],
   "source": [
    "actors_df.rename(columns={'credits': 'actor_credits', 'net_to_date':'actor_net_to_date'}, inplace=True)"
   ]
  },
  {
   "cell_type": "code",
   "execution_count": 17,
   "metadata": {},
   "outputs": [
    {
     "name": "stdout",
     "output_type": "stream",
     "text": [
      "Producer\n"
     ]
    },
    {
     "data": {
      "application/vnd.jupyter.widget-view+json": {
       "model_id": "0cc0c486e2604bbf968160841509227c",
       "version_major": 2,
       "version_minor": 0
      },
      "text/html": [
       "<p>Failed to display Jupyter Widget of type <code>HBox</code>.</p>\n",
       "<p>\n",
       "  If you're reading this message in the Jupyter Notebook or JupyterLab Notebook, it may mean\n",
       "  that the widgets JavaScript is still loading. If this message persists, it\n",
       "  likely means that the widgets JavaScript library is either not installed or\n",
       "  not enabled. See the <a href=\"https://ipywidgets.readthedocs.io/en/stable/user_install.html\">Jupyter\n",
       "  Widgets Documentation</a> for setup instructions.\n",
       "</p>\n",
       "<p>\n",
       "  If you're reading this message in another frontend (for example, a static\n",
       "  rendering on GitHub or <a href=\"https://nbviewer.jupyter.org/\">NBViewer</a>),\n",
       "  it may mean that your frontend doesn't currently support widgets.\n",
       "</p>\n"
      ],
      "text/plain": [
       "HBox(children=(IntProgress(value=0, max=1592), HTML(value='')))"
      ]
     },
     "metadata": {},
     "output_type": "display_data"
    },
    {
     "name": "stdout",
     "output_type": "stream",
     "text": [
      "\n"
     ]
    },
    {
     "data": {
      "application/vnd.jupyter.widget-view+json": {
       "model_id": "fe18c19606584c6184d60d3e723c1421",
       "version_major": 2,
       "version_minor": 0
      },
      "text/html": [
       "<p>Failed to display Jupyter Widget of type <code>HBox</code>.</p>\n",
       "<p>\n",
       "  If you're reading this message in the Jupyter Notebook or JupyterLab Notebook, it may mean\n",
       "  that the widgets JavaScript is still loading. If this message persists, it\n",
       "  likely means that the widgets JavaScript library is either not installed or\n",
       "  not enabled. See the <a href=\"https://ipywidgets.readthedocs.io/en/stable/user_install.html\">Jupyter\n",
       "  Widgets Documentation</a> for setup instructions.\n",
       "</p>\n",
       "<p>\n",
       "  If you're reading this message in another frontend (for example, a static\n",
       "  rendering on GitHub or <a href=\"https://nbviewer.jupyter.org/\">NBViewer</a>),\n",
       "  it may mean that your frontend doesn't currently support widgets.\n",
       "</p>\n"
      ],
      "text/plain": [
       "HBox(children=(IntProgress(value=0, max=1592), HTML(value='')))"
      ]
     },
     "metadata": {},
     "output_type": "display_data"
    },
    {
     "name": "stdout",
     "output_type": "stream",
     "text": [
      "\n",
      "Writer\n"
     ]
    },
    {
     "data": {
      "application/vnd.jupyter.widget-view+json": {
       "model_id": "c8f3bdfac06d4f01a665f391b82d3676",
       "version_major": 2,
       "version_minor": 0
      },
      "text/html": [
       "<p>Failed to display Jupyter Widget of type <code>HBox</code>.</p>\n",
       "<p>\n",
       "  If you're reading this message in the Jupyter Notebook or JupyterLab Notebook, it may mean\n",
       "  that the widgets JavaScript is still loading. If this message persists, it\n",
       "  likely means that the widgets JavaScript library is either not installed or\n",
       "  not enabled. See the <a href=\"https://ipywidgets.readthedocs.io/en/stable/user_install.html\">Jupyter\n",
       "  Widgets Documentation</a> for setup instructions.\n",
       "</p>\n",
       "<p>\n",
       "  If you're reading this message in another frontend (for example, a static\n",
       "  rendering on GitHub or <a href=\"https://nbviewer.jupyter.org/\">NBViewer</a>),\n",
       "  it may mean that your frontend doesn't currently support widgets.\n",
       "</p>\n"
      ],
      "text/plain": [
       "HBox(children=(IntProgress(value=0, max=1092), HTML(value='')))"
      ]
     },
     "metadata": {},
     "output_type": "display_data"
    },
    {
     "name": "stdout",
     "output_type": "stream",
     "text": [
      "\n"
     ]
    },
    {
     "data": {
      "application/vnd.jupyter.widget-view+json": {
       "model_id": "69fc00dcbd97402cb33f6d3783164303",
       "version_major": 2,
       "version_minor": 0
      },
      "text/html": [
       "<p>Failed to display Jupyter Widget of type <code>HBox</code>.</p>\n",
       "<p>\n",
       "  If you're reading this message in the Jupyter Notebook or JupyterLab Notebook, it may mean\n",
       "  that the widgets JavaScript is still loading. If this message persists, it\n",
       "  likely means that the widgets JavaScript library is either not installed or\n",
       "  not enabled. See the <a href=\"https://ipywidgets.readthedocs.io/en/stable/user_install.html\">Jupyter\n",
       "  Widgets Documentation</a> for setup instructions.\n",
       "</p>\n",
       "<p>\n",
       "  If you're reading this message in another frontend (for example, a static\n",
       "  rendering on GitHub or <a href=\"https://nbviewer.jupyter.org/\">NBViewer</a>),\n",
       "  it may mean that your frontend doesn't currently support widgets.\n",
       "</p>\n"
      ],
      "text/plain": [
       "HBox(children=(IntProgress(value=0, max=1092), HTML(value='')))"
      ]
     },
     "metadata": {},
     "output_type": "display_data"
    },
    {
     "name": "stdout",
     "output_type": "stream",
     "text": [
      "\n",
      "Director\n"
     ]
    },
    {
     "data": {
      "application/vnd.jupyter.widget-view+json": {
       "model_id": "6f1ab0122b984d2193f4456240e26b37",
       "version_major": 2,
       "version_minor": 0
      },
      "text/html": [
       "<p>Failed to display Jupyter Widget of type <code>HBox</code>.</p>\n",
       "<p>\n",
       "  If you're reading this message in the Jupyter Notebook or JupyterLab Notebook, it may mean\n",
       "  that the widgets JavaScript is still loading. If this message persists, it\n",
       "  likely means that the widgets JavaScript library is either not installed or\n",
       "  not enabled. See the <a href=\"https://ipywidgets.readthedocs.io/en/stable/user_install.html\">Jupyter\n",
       "  Widgets Documentation</a> for setup instructions.\n",
       "</p>\n",
       "<p>\n",
       "  If you're reading this message in another frontend (for example, a static\n",
       "  rendering on GitHub or <a href=\"https://nbviewer.jupyter.org/\">NBViewer</a>),\n",
       "  it may mean that your frontend doesn't currently support widgets.\n",
       "</p>\n"
      ],
      "text/plain": [
       "HBox(children=(IntProgress(value=0, max=2018), HTML(value='')))"
      ]
     },
     "metadata": {},
     "output_type": "display_data"
    },
    {
     "name": "stdout",
     "output_type": "stream",
     "text": [
      "\n"
     ]
    },
    {
     "data": {
      "application/vnd.jupyter.widget-view+json": {
       "model_id": "2cb8e5afb63f4bb4a8bb8b9a9ecf6a6a",
       "version_major": 2,
       "version_minor": 0
      },
      "text/html": [
       "<p>Failed to display Jupyter Widget of type <code>HBox</code>.</p>\n",
       "<p>\n",
       "  If you're reading this message in the Jupyter Notebook or JupyterLab Notebook, it may mean\n",
       "  that the widgets JavaScript is still loading. If this message persists, it\n",
       "  likely means that the widgets JavaScript library is either not installed or\n",
       "  not enabled. See the <a href=\"https://ipywidgets.readthedocs.io/en/stable/user_install.html\">Jupyter\n",
       "  Widgets Documentation</a> for setup instructions.\n",
       "</p>\n",
       "<p>\n",
       "  If you're reading this message in another frontend (for example, a static\n",
       "  rendering on GitHub or <a href=\"https://nbviewer.jupyter.org/\">NBViewer</a>),\n",
       "  it may mean that your frontend doesn't currently support widgets.\n",
       "</p>\n"
      ],
      "text/plain": [
       "HBox(children=(IntProgress(value=0, max=2018), HTML(value='')))"
      ]
     },
     "metadata": {},
     "output_type": "display_data"
    },
    {
     "name": "stdout",
     "output_type": "stream",
     "text": [
      "\n"
     ]
    }
   ],
   "source": [
    "crew_dfs = pdfm.get_crew_credits(data, movies, False, False)"
   ]
  },
  {
   "cell_type": "code",
   "execution_count": 22,
   "metadata": {},
   "outputs": [],
   "source": [
    "for k, df in crew_dfs.items():\n",
    "    crew_dfs[k].rename(columns={'credits':k.lower() + '_credits', 'net_to_date': k.lower() + '_net_to_date'}, inplace=True)"
   ]
  },
  {
   "cell_type": "code",
   "execution_count": 32,
   "metadata": {},
   "outputs": [],
   "source": [
    "mega_df = actors_df.drop('name', axis=1)\n",
    "for k,df in crew_dfs.items():\n",
    "    mega_df = mega_df.merge(df.drop('name',axis=1), on=['movie_id', 'title'], how='inner')"
   ]
  },
  {
   "cell_type": "code",
   "execution_count": 39,
   "metadata": {},
   "outputs": [],
   "source": [
    "genres_df = pdfm.get_genre_data(data, movies, False, False).reset_index()"
   ]
  },
  {
   "cell_type": "code",
   "execution_count": 41,
   "metadata": {},
   "outputs": [],
   "source": [
    "mega_df = mega_df.merge(genres_df, on=['movie_id', 'title'])"
   ]
  },
  {
   "cell_type": "code",
   "execution_count": 44,
   "metadata": {},
   "outputs": [],
   "source": [
    "lang_df = pdfm.get_language_data(data, movies, False, False).reset_index()"
   ]
  },
  {
   "cell_type": "code",
   "execution_count": 46,
   "metadata": {},
   "outputs": [],
   "source": [
    "mega_df = mega_df.merge(lang_df, on=['movie_id', 'title'])"
   ]
  },
  {
   "cell_type": "code",
   "execution_count": 47,
   "metadata": {},
   "outputs": [
    {
     "data": {
      "text/html": [
       "<div>\n",
       "<style scoped>\n",
       "    .dataframe tbody tr th:only-of-type {\n",
       "        vertical-align: middle;\n",
       "    }\n",
       "\n",
       "    .dataframe tbody tr th {\n",
       "        vertical-align: top;\n",
       "    }\n",
       "\n",
       "    .dataframe thead th {\n",
       "        text-align: right;\n",
       "    }\n",
       "</style>\n",
       "<table border=\"1\" class=\"dataframe\">\n",
       "  <thead>\n",
       "    <tr style=\"text-align: right;\">\n",
       "      <th></th>\n",
       "      <th>movie_id</th>\n",
       "      <th>title</th>\n",
       "      <th>actor_credits</th>\n",
       "      <th>actor_net_to_date</th>\n",
       "      <th>producer_credits</th>\n",
       "      <th>producer_net_to_date</th>\n",
       "      <th>writer_credits</th>\n",
       "      <th>writer_net_to_date</th>\n",
       "      <th>director_credits</th>\n",
       "      <th>director_net_to_date</th>\n",
       "      <th>genre_count</th>\n",
       "      <th>language_count</th>\n",
       "    </tr>\n",
       "  </thead>\n",
       "  <tbody>\n",
       "    <tr>\n",
       "      <th>0</th>\n",
       "      <td>5</td>\n",
       "      <td>Four Rooms</td>\n",
       "      <td>0</td>\n",
       "      <td>0</td>\n",
       "      <td>2</td>\n",
       "      <td>219389769</td>\n",
       "      <td>0</td>\n",
       "      <td>0</td>\n",
       "      <td>0</td>\n",
       "      <td>0</td>\n",
       "      <td>2</td>\n",
       "      <td>1</td>\n",
       "    </tr>\n",
       "    <tr>\n",
       "      <th>1</th>\n",
       "      <td>11</td>\n",
       "      <td>Star Wars</td>\n",
       "      <td>0</td>\n",
       "      <td>0</td>\n",
       "      <td>1</td>\n",
       "      <td>139223000</td>\n",
       "      <td>0</td>\n",
       "      <td>0</td>\n",
       "      <td>1</td>\n",
       "      <td>139223000</td>\n",
       "      <td>3</td>\n",
       "      <td>1</td>\n",
       "    </tr>\n",
       "    <tr>\n",
       "      <th>2</th>\n",
       "      <td>16</td>\n",
       "      <td>Dancer in the Dark</td>\n",
       "      <td>0</td>\n",
       "      <td>0</td>\n",
       "      <td>0</td>\n",
       "      <td>0</td>\n",
       "      <td>0</td>\n",
       "      <td>0</td>\n",
       "      <td>0</td>\n",
       "      <td>0</td>\n",
       "      <td>3</td>\n",
       "      <td>1</td>\n",
       "    </tr>\n",
       "    <tr>\n",
       "      <th>3</th>\n",
       "      <td>24</td>\n",
       "      <td>Kill Bill: Vol. 1</td>\n",
       "      <td>0</td>\n",
       "      <td>0</td>\n",
       "      <td>7</td>\n",
       "      <td>518392527</td>\n",
       "      <td>1</td>\n",
       "      <td>13461007</td>\n",
       "      <td>3</td>\n",
       "      <td>247062931</td>\n",
       "      <td>2</td>\n",
       "      <td>3</td>\n",
       "    </tr>\n",
       "    <tr>\n",
       "      <th>4</th>\n",
       "      <td>28</td>\n",
       "      <td>Apocalypse Now</td>\n",
       "      <td>0</td>\n",
       "      <td>0</td>\n",
       "      <td>2</td>\n",
       "      <td>37362841</td>\n",
       "      <td>0</td>\n",
       "      <td>0</td>\n",
       "      <td>3</td>\n",
       "      <td>276429252</td>\n",
       "      <td>2</td>\n",
       "      <td>3</td>\n",
       "    </tr>\n",
       "  </tbody>\n",
       "</table>\n",
       "</div>"
      ],
      "text/plain": [
       "   movie_id               title  actor_credits  actor_net_to_date  \\\n",
       "0         5          Four Rooms              0                  0   \n",
       "1        11           Star Wars              0                  0   \n",
       "2        16  Dancer in the Dark              0                  0   \n",
       "3        24   Kill Bill: Vol. 1              0                  0   \n",
       "4        28      Apocalypse Now              0                  0   \n",
       "\n",
       "   producer_credits  producer_net_to_date  writer_credits  writer_net_to_date  \\\n",
       "0                 2             219389769               0                   0   \n",
       "1                 1             139223000               0                   0   \n",
       "2                 0                     0               0                   0   \n",
       "3                 7             518392527               1            13461007   \n",
       "4                 2              37362841               0                   0   \n",
       "\n",
       "   director_credits  director_net_to_date  genre_count  language_count  \n",
       "0                 0                     0            2               1  \n",
       "1                 1             139223000            3               1  \n",
       "2                 0                     0            3               1  \n",
       "3                 3             247062931            2               3  \n",
       "4                 3             276429252            2               3  "
      ]
     },
     "execution_count": 47,
     "metadata": {},
     "output_type": "execute_result"
    }
   ],
   "source": [
    "mega_df.head()"
   ]
  },
  {
   "cell_type": "code",
   "execution_count": 50,
   "metadata": {},
   "outputs": [],
   "source": [
    "movies = movies[['budget','release_date','runtime']].reset_index()"
   ]
  },
  {
   "cell_type": "code",
   "execution_count": 52,
   "metadata": {},
   "outputs": [
    {
     "data": {
      "text/html": [
       "<div>\n",
       "<style scoped>\n",
       "    .dataframe tbody tr th:only-of-type {\n",
       "        vertical-align: middle;\n",
       "    }\n",
       "\n",
       "    .dataframe tbody tr th {\n",
       "        vertical-align: top;\n",
       "    }\n",
       "\n",
       "    .dataframe thead th {\n",
       "        text-align: right;\n",
       "    }\n",
       "</style>\n",
       "<table border=\"1\" class=\"dataframe\">\n",
       "  <thead>\n",
       "    <tr style=\"text-align: right;\">\n",
       "      <th></th>\n",
       "      <th>movie_id</th>\n",
       "      <th>title</th>\n",
       "      <th>budget</th>\n",
       "      <th>release_date</th>\n",
       "      <th>runtime</th>\n",
       "    </tr>\n",
       "  </thead>\n",
       "  <tbody>\n",
       "    <tr>\n",
       "      <th>0</th>\n",
       "      <td>19995</td>\n",
       "      <td>Avatar</td>\n",
       "      <td>237000000</td>\n",
       "      <td>2009-12-10</td>\n",
       "      <td>162</td>\n",
       "    </tr>\n",
       "    <tr>\n",
       "      <th>1</th>\n",
       "      <td>285</td>\n",
       "      <td>Pirates of the Caribbean: At World's End</td>\n",
       "      <td>300000000</td>\n",
       "      <td>2007-05-19</td>\n",
       "      <td>169</td>\n",
       "    </tr>\n",
       "    <tr>\n",
       "      <th>2</th>\n",
       "      <td>206647</td>\n",
       "      <td>Spectre</td>\n",
       "      <td>245000000</td>\n",
       "      <td>2015-10-26</td>\n",
       "      <td>148</td>\n",
       "    </tr>\n",
       "    <tr>\n",
       "      <th>3</th>\n",
       "      <td>49026</td>\n",
       "      <td>The Dark Knight Rises</td>\n",
       "      <td>250000000</td>\n",
       "      <td>2012-07-16</td>\n",
       "      <td>165</td>\n",
       "    </tr>\n",
       "    <tr>\n",
       "      <th>4</th>\n",
       "      <td>49529</td>\n",
       "      <td>John Carter</td>\n",
       "      <td>260000000</td>\n",
       "      <td>2012-03-07</td>\n",
       "      <td>132</td>\n",
       "    </tr>\n",
       "  </tbody>\n",
       "</table>\n",
       "</div>"
      ],
      "text/plain": [
       "   movie_id                                     title     budget release_date  \\\n",
       "0     19995                                    Avatar  237000000   2009-12-10   \n",
       "1       285  Pirates of the Caribbean: At World's End  300000000   2007-05-19   \n",
       "2    206647                                   Spectre  245000000   2015-10-26   \n",
       "3     49026                     The Dark Knight Rises  250000000   2012-07-16   \n",
       "4     49529                               John Carter  260000000   2012-03-07   \n",
       "\n",
       "   runtime  \n",
       "0      162  \n",
       "1      169  \n",
       "2      148  \n",
       "3      165  \n",
       "4      132  "
      ]
     },
     "execution_count": 52,
     "metadata": {},
     "output_type": "execute_result"
    }
   ],
   "source": [
    "movies.head()"
   ]
  },
  {
   "cell_type": "code",
   "execution_count": 55,
   "metadata": {},
   "outputs": [],
   "source": [
    "movies = eda.split_release_date(movies)"
   ]
  },
  {
   "cell_type": "code",
   "execution_count": 57,
   "metadata": {},
   "outputs": [],
   "source": [
    "mega_df = pd.merge(movies.drop('release_date', axis=1),mega_df, on=['movie_id','title'])"
   ]
  },
  {
   "cell_type": "code",
   "execution_count": 61,
   "metadata": {},
   "outputs": [],
   "source": [
    "mega_df.set_index(['movie_id', 'title'], inplace=True)"
   ]
  },
  {
   "cell_type": "code",
   "execution_count": 62,
   "metadata": {},
   "outputs": [
    {
     "data": {
      "text/html": [
       "<div>\n",
       "<style scoped>\n",
       "    .dataframe tbody tr th:only-of-type {\n",
       "        vertical-align: middle;\n",
       "    }\n",
       "\n",
       "    .dataframe tbody tr th {\n",
       "        vertical-align: top;\n",
       "    }\n",
       "\n",
       "    .dataframe thead th {\n",
       "        text-align: right;\n",
       "    }\n",
       "</style>\n",
       "<table border=\"1\" class=\"dataframe\">\n",
       "  <thead>\n",
       "    <tr style=\"text-align: right;\">\n",
       "      <th></th>\n",
       "      <th></th>\n",
       "      <th>budget</th>\n",
       "      <th>runtime</th>\n",
       "      <th>release_month</th>\n",
       "      <th>release_year</th>\n",
       "      <th>release_dow</th>\n",
       "      <th>actor_credits</th>\n",
       "      <th>actor_net_to_date</th>\n",
       "      <th>producer_credits</th>\n",
       "      <th>producer_net_to_date</th>\n",
       "      <th>writer_credits</th>\n",
       "      <th>writer_net_to_date</th>\n",
       "      <th>director_credits</th>\n",
       "      <th>director_net_to_date</th>\n",
       "      <th>genre_count</th>\n",
       "      <th>language_count</th>\n",
       "    </tr>\n",
       "    <tr>\n",
       "      <th>movie_id</th>\n",
       "      <th>title</th>\n",
       "      <th></th>\n",
       "      <th></th>\n",
       "      <th></th>\n",
       "      <th></th>\n",
       "      <th></th>\n",
       "      <th></th>\n",
       "      <th></th>\n",
       "      <th></th>\n",
       "      <th></th>\n",
       "      <th></th>\n",
       "      <th></th>\n",
       "      <th></th>\n",
       "      <th></th>\n",
       "      <th></th>\n",
       "      <th></th>\n",
       "    </tr>\n",
       "  </thead>\n",
       "  <tbody>\n",
       "    <tr>\n",
       "      <th>19995</th>\n",
       "      <th>Avatar</th>\n",
       "      <td>237000000</td>\n",
       "      <td>162</td>\n",
       "      <td>12</td>\n",
       "      <td>2009</td>\n",
       "      <td>3</td>\n",
       "      <td>0</td>\n",
       "      <td>0</td>\n",
       "      <td>3</td>\n",
       "      <td>2328916599</td>\n",
       "      <td>1</td>\n",
       "      <td>420000000</td>\n",
       "      <td>6</td>\n",
       "      <td>2585704352</td>\n",
       "      <td>4</td>\n",
       "      <td>2</td>\n",
       "    </tr>\n",
       "    <tr>\n",
       "      <th>99861</th>\n",
       "      <th>Avengers: Age of Ultron</th>\n",
       "      <td>280000000</td>\n",
       "      <td>141</td>\n",
       "      <td>4</td>\n",
       "      <td>2015</td>\n",
       "      <td>2</td>\n",
       "      <td>11</td>\n",
       "      <td>3940617206</td>\n",
       "      <td>8</td>\n",
       "      <td>4891494230</td>\n",
       "      <td>1</td>\n",
       "      <td>-130536</td>\n",
       "      <td>2</td>\n",
       "      <td>1299427374</td>\n",
       "      <td>3</td>\n",
       "      <td>1</td>\n",
       "    </tr>\n",
       "    <tr>\n",
       "      <th>41154</th>\n",
       "      <th>Men in Black 3</th>\n",
       "      <td>225000000</td>\n",
       "      <td>106</td>\n",
       "      <td>5</td>\n",
       "      <td>2012</td>\n",
       "      <td>2</td>\n",
       "      <td>12</td>\n",
       "      <td>3150078356</td>\n",
       "      <td>4</td>\n",
       "      <td>957515311</td>\n",
       "      <td>0</td>\n",
       "      <td>0</td>\n",
       "      <td>6</td>\n",
       "      <td>1068161961</td>\n",
       "      <td>3</td>\n",
       "      <td>1</td>\n",
       "    </tr>\n",
       "    <tr>\n",
       "      <th>122917</th>\n",
       "      <th>The Hobbit: The Battle of the Five Armies</th>\n",
       "      <td>250000000</td>\n",
       "      <td>144</td>\n",
       "      <td>12</td>\n",
       "      <td>2014</td>\n",
       "      <td>2</td>\n",
       "      <td>2</td>\n",
       "      <td>762878416</td>\n",
       "      <td>5</td>\n",
       "      <td>2031848765</td>\n",
       "      <td>0</td>\n",
       "      <td>0</td>\n",
       "      <td>8</td>\n",
       "      <td>4499623032</td>\n",
       "      <td>3</td>\n",
       "      <td>1</td>\n",
       "    </tr>\n",
       "    <tr>\n",
       "      <th>37724</th>\n",
       "      <th>Skyfall</th>\n",
       "      <td>200000000</td>\n",
       "      <td>143</td>\n",
       "      <td>10</td>\n",
       "      <td>2012</td>\n",
       "      <td>3</td>\n",
       "      <td>6</td>\n",
       "      <td>955438019</td>\n",
       "      <td>6</td>\n",
       "      <td>1871145305</td>\n",
       "      <td>2</td>\n",
       "      <td>77012923</td>\n",
       "      <td>5</td>\n",
       "      <td>505313187</td>\n",
       "      <td>3</td>\n",
       "      <td>1</td>\n",
       "    </tr>\n",
       "  </tbody>\n",
       "</table>\n",
       "</div>"
      ],
      "text/plain": [
       "                                                       budget  runtime  \\\n",
       "movie_id title                                                           \n",
       "19995    Avatar                                     237000000      162   \n",
       "99861    Avengers: Age of Ultron                    280000000      141   \n",
       "41154    Men in Black 3                             225000000      106   \n",
       "122917   The Hobbit: The Battle of the Five Armies  250000000      144   \n",
       "37724    Skyfall                                    200000000      143   \n",
       "\n",
       "                                                    release_month  \\\n",
       "movie_id title                                                      \n",
       "19995    Avatar                                                12   \n",
       "99861    Avengers: Age of Ultron                                4   \n",
       "41154    Men in Black 3                                         5   \n",
       "122917   The Hobbit: The Battle of the Five Armies             12   \n",
       "37724    Skyfall                                               10   \n",
       "\n",
       "                                                    release_year  release_dow  \\\n",
       "movie_id title                                                                  \n",
       "19995    Avatar                                             2009            3   \n",
       "99861    Avengers: Age of Ultron                            2015            2   \n",
       "41154    Men in Black 3                                     2012            2   \n",
       "122917   The Hobbit: The Battle of the Five Armies          2014            2   \n",
       "37724    Skyfall                                            2012            3   \n",
       "\n",
       "                                                    actor_credits  \\\n",
       "movie_id title                                                      \n",
       "19995    Avatar                                                 0   \n",
       "99861    Avengers: Age of Ultron                               11   \n",
       "41154    Men in Black 3                                        12   \n",
       "122917   The Hobbit: The Battle of the Five Armies              2   \n",
       "37724    Skyfall                                                6   \n",
       "\n",
       "                                                    actor_net_to_date  \\\n",
       "movie_id title                                                          \n",
       "19995    Avatar                                                     0   \n",
       "99861    Avengers: Age of Ultron                           3940617206   \n",
       "41154    Men in Black 3                                    3150078356   \n",
       "122917   The Hobbit: The Battle of the Five Armies          762878416   \n",
       "37724    Skyfall                                            955438019   \n",
       "\n",
       "                                                    producer_credits  \\\n",
       "movie_id title                                                         \n",
       "19995    Avatar                                                    3   \n",
       "99861    Avengers: Age of Ultron                                   8   \n",
       "41154    Men in Black 3                                            4   \n",
       "122917   The Hobbit: The Battle of the Five Armies                 5   \n",
       "37724    Skyfall                                                   6   \n",
       "\n",
       "                                                    producer_net_to_date  \\\n",
       "movie_id title                                                             \n",
       "19995    Avatar                                               2328916599   \n",
       "99861    Avengers: Age of Ultron                              4891494230   \n",
       "41154    Men in Black 3                                        957515311   \n",
       "122917   The Hobbit: The Battle of the Five Armies            2031848765   \n",
       "37724    Skyfall                                              1871145305   \n",
       "\n",
       "                                                    writer_credits  \\\n",
       "movie_id title                                                       \n",
       "19995    Avatar                                                  1   \n",
       "99861    Avengers: Age of Ultron                                 1   \n",
       "41154    Men in Black 3                                          0   \n",
       "122917   The Hobbit: The Battle of the Five Armies               0   \n",
       "37724    Skyfall                                                 2   \n",
       "\n",
       "                                                    writer_net_to_date  \\\n",
       "movie_id title                                                           \n",
       "19995    Avatar                                              420000000   \n",
       "99861    Avengers: Age of Ultron                               -130536   \n",
       "41154    Men in Black 3                                              0   \n",
       "122917   The Hobbit: The Battle of the Five Armies                   0   \n",
       "37724    Skyfall                                              77012923   \n",
       "\n",
       "                                                    director_credits  \\\n",
       "movie_id title                                                         \n",
       "19995    Avatar                                                    6   \n",
       "99861    Avengers: Age of Ultron                                   2   \n",
       "41154    Men in Black 3                                            6   \n",
       "122917   The Hobbit: The Battle of the Five Armies                 8   \n",
       "37724    Skyfall                                                   5   \n",
       "\n",
       "                                                    director_net_to_date  \\\n",
       "movie_id title                                                             \n",
       "19995    Avatar                                               2585704352   \n",
       "99861    Avengers: Age of Ultron                              1299427374   \n",
       "41154    Men in Black 3                                       1068161961   \n",
       "122917   The Hobbit: The Battle of the Five Armies            4499623032   \n",
       "37724    Skyfall                                               505313187   \n",
       "\n",
       "                                                    genre_count  \\\n",
       "movie_id title                                                    \n",
       "19995    Avatar                                               4   \n",
       "99861    Avengers: Age of Ultron                              3   \n",
       "41154    Men in Black 3                                       3   \n",
       "122917   The Hobbit: The Battle of the Five Armies            3   \n",
       "37724    Skyfall                                              3   \n",
       "\n",
       "                                                    language_count  \n",
       "movie_id title                                                      \n",
       "19995    Avatar                                                  2  \n",
       "99861    Avengers: Age of Ultron                                 1  \n",
       "41154    Men in Black 3                                          1  \n",
       "122917   The Hobbit: The Battle of the Five Armies               1  \n",
       "37724    Skyfall                                                 1  "
      ]
     },
     "execution_count": 62,
     "metadata": {},
     "output_type": "execute_result"
    }
   ],
   "source": [
    "mega_df.head()"
   ]
  },
  {
   "cell_type": "code",
   "execution_count": 63,
   "metadata": {},
   "outputs": [],
   "source": [
    "mega_df.to_csv('mega_features.csv')"
   ]
  },
  {
   "cell_type": "code",
   "execution_count": null,
   "metadata": {},
   "outputs": [],
   "source": []
  }
 ],
 "metadata": {
  "kernelspec": {
   "display_name": "Python 3",
   "language": "python",
   "name": "python3"
  },
  "language_info": {
   "codemirror_mode": {
    "name": "ipython",
    "version": 3
   },
   "file_extension": ".py",
   "mimetype": "text/x-python",
   "name": "python",
   "nbconvert_exporter": "python",
   "pygments_lexer": "ipython3",
   "version": "3.6.1"
  }
 },
 "nbformat": 4,
 "nbformat_minor": 2
}
