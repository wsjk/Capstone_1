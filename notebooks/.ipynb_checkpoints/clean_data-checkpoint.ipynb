{
 "cells": [
  {
   "cell_type": "markdown",
   "metadata": {},
   "source": [
    "## Import Processed Data"
   ]
  },
  {
   "cell_type": "code",
   "execution_count": null,
   "metadata": {},
   "outputs": [],
   "source": [
    "import requests\n",
    "from bs4 import BeautifulSoup\n",
    "from datetime import datetime as dt\n",
    "from re import sub\n",
    "from decimal import Decimal\n",
    "import numpy as np\n",
    "import re\n",
    "\n",
    "import tqdm\n",
    "tqdm.monitor_interval = 0\n",
    "\n",
    "import os\n",
    "import importlib.util\n",
    "\n",
    "current_file_path = os.path.abspath(os.path.join(\"__file__\" ,\"../..\"))\n",
    "import_data_path = os.path.join(current_file_path,'src','data')\n",
    "\n",
    "spec = importlib.util.spec_from_file_location(\"import_clean_csv\", os.path.join(import_data_path,\"import_clean_data.py\"))\n",
    "import_data = importlib.util.module_from_spec(spec)\n",
    "spec.loader.exec_module(import_data)\n",
    "\n",
    "data = import_data.import_clean_csv()"
   ]
  },
  {
   "cell_type": "code",
   "execution_count": null,
   "metadata": {},
   "outputs": [],
   "source": [
    "data.keys()\n"
   ]
  },
  {
   "cell_type": "code",
   "execution_count": null,
   "metadata": {},
   "outputs": [],
   "source": [
    "df = data['tmdb_movie_main']\n",
    "\n",
    "missing_movies = df[(df.budget < 1) | (df.revenue < 1)].reindex(columns=['budget', 'revenue','release_date'])\n",
    "missing_movies.reset_index(level=[0,1], inplace=True)\n",
    "missing_movies.sort_index(inplace=True)\n",
    "len(missing_movies)"
   ]
  },
  {
   "cell_type": "code",
   "execution_count": null,
   "metadata": {},
   "outputs": [],
   "source": [
    "def row_scrape_movie_data(row):\n",
    "    missing_movie_dict = {}\n",
    "    url = 'https://www.the-numbers.com/'\n",
    "    \n",
    "    url2, movie_url = \"\",\"\"\n",
    "    row.budget, row.revenue, row.movie_url = np.nan, np.nan, np.nan\n",
    "    title, release_date = row.title, row.release_date\n",
    "    title_search_url = title.replace(' ', '+')\n",
    "     \n",
    "    #movie title search result page url\n",
    "    query = '{}search?searchterm={}&searchtype=allmatches'.format(url,title_search_url)\n",
    "    search_page = requests.get(query)\n",
    "    search_soup = BeautifulSoup(search_page.content, 'html.parser')\n",
    "\n",
    "    urls = [] #to keep track of urls in search_page\n",
    "    tables = search_soup.find_all('div', id='page_filling_chart')\n",
    "\n",
    "    if 'No movie match found' in tables[1].find('p').get_text():\n",
    "        return row\n",
    "\n",
    "    # if there is more than one movie returned in search, pick the one that matches release date year\n",
    "    for link in tables[1].find_all('a'):\n",
    "        if \"/movie\" in link.get('href') or \"/daily\" in link.get('href'):\n",
    "            urls.append(link.get('href'))\n",
    "\n",
    "    if not urls or len(urls)<=1: #if no urls are found\n",
    "        return row\n",
    "    else:\n",
    "        for i in range(0,len(urls)):\n",
    "            pattern = re.compile(r'.+/daily/(.+)$')\n",
    "            if 'daily' in urls[i]:\n",
    "                web_release_date = dt.strptime(re.match(pattern,urls[i]).group(1), '%Y/%m/%d')\n",
    "            else:\n",
    "                continue\n",
    "            if web_release_date.year in range(release_date.year-3,release_date.year+3):\n",
    "                #if date matches, then the next href link will be the correct link\n",
    "                #for financial details of the movie\n",
    "                url2 = urls[i+1]\n",
    "                break\n",
    "        else:\n",
    "            return row\n",
    "\n",
    "    movie_url = url + url2\n",
    "\n",
    "    if url2:\n",
    "        #financial details extracted from movie page\n",
    "        movie_page = requests.get(movie_url)\n",
    "        movie_soup = BeautifulSoup(movie_page.content, 'html.parser')\n",
    "\n",
    "        #scrape worldwide box office revenue\n",
    "        table = movie_soup.find('table', id='movie_finances')\n",
    "        tds = table.find_all('td')\n",
    "        box_office = []\n",
    "        for i in range(len(tds)):\n",
    "            if \"Box Office\" in tds[i].get_text():\n",
    "                money = tds[i+1].get_text()\n",
    "                box_office.append(Decimal(sub(r'[^\\d.]', '', money)))\n",
    "        \n",
    "        if box_office:\n",
    "            revenue = max(box_office)\n",
    "        else:\n",
    "            revenue = np.nan\n",
    "            \n",
    "        #scrape production budget\n",
    "        heading = movie_soup.find('h2', text='Movie Details')\n",
    "        tds = heading.parent.find_all('td')\n",
    "        for i, td in enumerate(tds):\n",
    "            if re.match('^production.+budget.+', td.get_text().lower()):\n",
    "                budget = Decimal(sub(r'[^\\d.]', '', tds[i+1].get_text()))\n",
    "                break\n",
    "        else:\n",
    "            \n",
    "            budget = np.nan\n",
    "\n",
    "    row.budget = budget\n",
    "    row.revenue = revenue\n",
    "    row.movie_url = movie_url\n",
    "\n",
    "    return row\n",
    "\n"
   ]
  },
  {
   "cell_type": "code",
   "execution_count": null,
   "metadata": {},
   "outputs": [],
   "source": [
    "wrong_titles = {9396: \"Crocodile Dundee 2\", 9644: \"Loaded Weapon 1\", 1011: \"Richie Rich\", 11658: \"Tae Guik Gi: The Brotherhood of War\", \n",
    "    367961: \"Savva. Serdtse voyna\", 25353: 'La véritable histoire du Chat Botté', 290864: 'Kung Fu Killer', \n",
    "    30379: 'Megiddo: Omega Code 2', 46435: 'Topsy Turvy', 12154: '3 Men and a Baby', 91586: 'Insidious Chapter 2'}"
   ]
  },
  {
   "cell_type": "code",
   "execution_count": null,
   "metadata": {},
   "outputs": [],
   "source": [
    "for movie_id, title in wrong_titles.items():\n",
    "    mask = missing_movies.movie_id == movie_id\n",
    "    missing_movies.loc[mask,'title'] = title"
   ]
  },
  {
   "cell_type": "code",
   "execution_count": null,
   "metadata": {},
   "outputs": [],
   "source": [
    "missing_movies.loc[1556,'release_date'] = dt(2014,12,31)\n",
    "missing_movies['movie_url'] = np.nan\n",
    "missing_movies.iloc[802]"
   ]
  },
  {
   "cell_type": "code",
   "execution_count": null,
   "metadata": {},
   "outputs": [],
   "source": [
    "#missing_movie_data = scrape_movie_data(missing_movies.iloc[:10])\n",
    "tqdm.tqdm_notebook().pandas()"
   ]
  },
  {
   "cell_type": "code",
   "execution_count": null,
   "metadata": {},
   "outputs": [],
   "source": [
    "found_movies = missing_movies.progress_apply(row_scrape_movie_data, axis=1)\n",
    "found_movies.to_csv('found_movies.csv', index=False)"
   ]
  },
  {
   "cell_type": "code",
   "execution_count": null,
   "metadata": {},
   "outputs": [],
   "source": [
    "found_movies = found_movies.dropna(axis=0, how='any')"
   ]
  },
  {
   "cell_type": "code",
   "execution_count": null,
   "metadata": {},
   "outputs": [],
   "source": [
    "original_movie_df = data['tmdb_movie_main'].reset_index()"
   ]
  },
  {
   "cell_type": "code",
   "execution_count": null,
   "metadata": {},
   "outputs": [],
   "source": [
    "merged = original_movie_df.merge(right=found_movies, how='left', on = ['movie_id','title'])"
   ]
  },
  {
   "cell_type": "code",
   "execution_count": null,
   "metadata": {},
   "outputs": [],
   "source": [
    "merged['budget'] = np.max(merged[['budget_x', 'budget_y']], axis=1)\n",
    "merged['revenue'] = np.max(merged[['revenue_x', 'revenue_y']], axis=1)\n",
    "merged['release_date'] = np.max(merged[['release_date_x', 'release_date_y']], axis=1)\n",
    "merged = merged.drop(labels=['budget_x', 'budget_y','revenue_x', 'revenue_y', 'release_date_x', 'release_date_y', 'movie_url'], axis=1)\n"
   ]
  },
  {
   "cell_type": "code",
   "execution_count": null,
   "metadata": {},
   "outputs": [],
   "source": [
    "merged..to_csv('final_movies.csv', index=False)"
   ]
  }
 ],
 "metadata": {
  "kernelspec": {
   "display_name": "Python 3",
   "language": "python",
   "name": "python3"
  },
  "language_info": {
   "codemirror_mode": {
    "name": "ipython",
    "version": 3
   },
   "file_extension": ".py",
   "mimetype": "text/x-python",
   "name": "python",
   "nbconvert_exporter": "python",
   "pygments_lexer": "ipython3",
   "version": "3.6.1"
  }
 },
 "nbformat": 4,
 "nbformat_minor": 2
}
